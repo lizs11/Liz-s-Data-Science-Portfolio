{
 "cells": [
  {
   "cell_type": "markdown",
   "id": "2f326bb2",
   "metadata": {},
   "source": [
    "### Python Binary Tree"
   ]
  },
  {
   "cell_type": "code",
   "execution_count": 1,
   "id": "499b2d9b",
   "metadata": {},
   "outputs": [],
   "source": [
    "class TreeNode:\n",
    "    def __init__(self, data=None):\n",
    "        self.data = data\n",
    "        self.left = None\n",
    "        self.right = None\n",
    "        \n",
    "    def insert(self, data):\n",
    "        if self.data: #check the root node is not empty\n",
    "            if data < self.data:\n",
    "                if self.left is None: #left child is empty\n",
    "                    self.left = TreeNode(data) #insert this node as left child\n",
    "                else:\n",
    "                    self.left.insert(data) #insert into the left subtree\n",
    "            else: # data > self.data, insert into rightsubtree\n",
    "                if self.right is None:\n",
    "                    self.right = TreeNode(data)\n",
    "                else:\n",
    "                    self.right.insert(data)\n",
    "        else: # the rootnode is empty\n",
    "            self.data = data #set the node as rootnode\n",
    "    \n",
    "    \n",
    "    def in_order_print(self):\n",
    "        if self.left: # check leftchild is empty or not\n",
    "            self.left.in_order_print()  # visit left subtree\n",
    "            \n",
    "        print(self.data) #visit rootnode\n",
    "        \n",
    "        if self.right:\n",
    "            self.right.in_order_print() # visit right subtree\n",
    "    \n",
    "    def pre_order_print(self):\n",
    "        print(self.data) #visit rootnode\n",
    "        \n",
    "        if self.left: # check leftchild is empty or not\n",
    "            self.left.pre_order_print()  # visit left subtree\n",
    "            \n",
    "        if self.right:\n",
    "            self.right.pre_order_print() # visit right subtree\n",
    "    \n",
    "    def post_order_print(self):\n",
    "        if self.left: # check leftchild is empty or not\n",
    "            self.left.post_order_print()  # visit left subtree\n",
    "            \n",
    "        if self.right:\n",
    "            self.right.post_order_print() # visit right subtree\n",
    "            \n",
    "        print(self.data) #visit rootnode"
   ]
  },
  {
   "cell_type": "code",
   "execution_count": 2,
   "id": "87ced54b",
   "metadata": {},
   "outputs": [],
   "source": [
    "rootnode = TreeNode()"
   ]
  },
  {
   "cell_type": "code",
   "execution_count": 3,
   "id": "1a5849e3",
   "metadata": {},
   "outputs": [],
   "source": [
    "Node_list = [2, 1, 3, 5, 4, 8, 7]"
   ]
  },
  {
   "cell_type": "code",
   "execution_count": 4,
   "id": "4c72689d",
   "metadata": {},
   "outputs": [],
   "source": [
    "for node in Node_list:\n",
    "    rootnode.insert(node)"
   ]
  },
  {
   "cell_type": "code",
   "execution_count": 5,
   "id": "2c95a482",
   "metadata": {},
   "outputs": [
    {
     "name": "stdout",
     "output_type": "stream",
     "text": [
      "1\n",
      "2\n",
      "3\n",
      "4\n",
      "5\n",
      "7\n",
      "8\n",
      "\n",
      "\n",
      "2\n",
      "1\n",
      "3\n",
      "5\n",
      "4\n",
      "8\n",
      "7\n",
      "\n",
      "\n",
      "1\n",
      "4\n",
      "7\n",
      "8\n",
      "5\n",
      "3\n",
      "2\n"
     ]
    },
    {
     "data": {
      "text/plain": [
       "(None, None, None, None, None)"
      ]
     },
     "execution_count": 5,
     "metadata": {},
     "output_type": "execute_result"
    }
   ],
   "source": [
    "rootnode.in_order_print(), print('\\n'), rootnode.pre_order_print(), print('\\n'), rootnode.post_order_print()"
   ]
  },
  {
   "cell_type": "code",
   "execution_count": 6,
   "id": "57d32fcb",
   "metadata": {},
   "outputs": [
    {
     "data": {
      "text/plain": [
       "(2, 1, 3, 4)"
      ]
     },
     "execution_count": 6,
     "metadata": {},
     "output_type": "execute_result"
    }
   ],
   "source": [
    "rootnode.data, rootnode.left.data, rootnode.right.data, rootnode.right.right.left.data"
   ]
  },
  {
   "cell_type": "code",
   "execution_count": 7,
   "id": "ae2c99fa",
   "metadata": {},
   "outputs": [],
   "source": [
    "node1 = TreeNode(3)"
   ]
  },
  {
   "cell_type": "code",
   "execution_count": 8,
   "id": "d485da0e",
   "metadata": {},
   "outputs": [],
   "source": [
    "tree = TreeNode(2)"
   ]
  },
  {
   "cell_type": "code",
   "execution_count": 9,
   "id": "597fccee",
   "metadata": {},
   "outputs": [
    {
     "data": {
      "text/plain": [
       "2"
      ]
     },
     "execution_count": 9,
     "metadata": {},
     "output_type": "execute_result"
    }
   ],
   "source": [
    "tree.data"
   ]
  },
  {
   "cell_type": "code",
   "execution_count": null,
   "id": "6e6ea42e",
   "metadata": {},
   "outputs": [],
   "source": []
  }
 ],
 "metadata": {
  "kernelspec": {
   "display_name": "Python 3 (ipykernel)",
   "language": "python",
   "name": "python3"
  },
  "language_info": {
   "codemirror_mode": {
    "name": "ipython",
    "version": 3
   },
   "file_extension": ".py",
   "mimetype": "text/x-python",
   "name": "python",
   "nbconvert_exporter": "python",
   "pygments_lexer": "ipython3",
   "version": "3.9.13"
  }
 },
 "nbformat": 4,
 "nbformat_minor": 5
}
