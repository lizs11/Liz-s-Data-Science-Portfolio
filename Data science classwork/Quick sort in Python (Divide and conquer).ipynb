{
 "cells": [
  {
   "cell_type": "markdown",
   "id": "b7f40198",
   "metadata": {},
   "source": [
    "### Quick sort in Python (Divide and conquer)"
   ]
  },
  {
   "cell_type": "code",
   "execution_count": 1,
   "id": "44d1f7fd",
   "metadata": {},
   "outputs": [],
   "source": [
    "# Function to partition the array on the basis of pivot element\n",
    "def partition(array, low, high):\n",
    "\n",
    "    # Select the pivot element\n",
    "    pivot = array[high]\n",
    "    i = low\n",
    "\n",
    "    # Put the elements smaller than pivot on the left and greater \n",
    "    #than pivot on the right of pivot\n",
    "    for j in range(low, high): # check the element one by one\n",
    "        if array[j] <= pivot: #compare the current element with the pivot, if we find a smaller value\n",
    "            (array[i], array[j]) = (array[j], array[i]) #we switch the current element with the current order (start from 1)\n",
    "            i=i+1 #\n",
    "\n",
    "    (array[i], array[high]) = (array[high], array[i]) #move the current pivot into the middle, and set a new pivot\n",
    "\n",
    "    return i #the position to divide an array\n"
   ]
  },
  {
   "cell_type": "code",
   "execution_count": 2,
   "id": "dfaa2101",
   "metadata": {},
   "outputs": [],
   "source": [
    "def quickSort(array, low, high):\n",
    "    if low < high: # if low == high, we stop at the current pivot, and the array cannot be further split.\n",
    "\n",
    "        # Select pivot position and put all the elements smaller \n",
    "        # than pivot on left and greater than pivot on right\n",
    "        pi = partition(array, low, high)\n",
    "\n",
    "        print(array,\"\\n\")\n",
    "\n",
    "        # Sort the elements on the left of pivot\n",
    "        quickSort(array, low, pi - 1)\n",
    "\n",
    "        # Sort the elements on the right of pivot\n",
    "        quickSort(array, pi + 1, high)"
   ]
  },
  {
   "cell_type": "code",
   "execution_count": 3,
   "id": "ea9bc5b5",
   "metadata": {},
   "outputs": [],
   "source": [
    "data = [8, 7, 2, 1, 0, 9, 6]\n",
    "# in the first run,\n",
    "# 8>6, did nothing\n",
    "# 7>6, did nothing\n",
    "# 2<6, switch the first element 8 (array[i]) with 2 (array [j]), [2,7,8,1,0,9,6] (i=i+1, i.e., i==2)\n",
    "# 1<6, switch 7 with 1, [2,1,8,7,0,9,6]\n",
    "# 0<6, switch 8 with 0, [2,1,0,7,8,9,6]\n",
    "# 9>6, did nothing\n",
    "# (array[i], array[high]) = (array[high], array[i]), [2,1,0,6,8,9,7], pi=3 (start from 0)\n",
    "# keep continue a new round of quickSort for (low, pi-1) [2,1,0], and (pi+1, high) [8,9,7] till low == high"
   ]
  },
  {
   "cell_type": "code",
   "execution_count": 4,
   "id": "0a64d516",
   "metadata": {},
   "outputs": [
    {
     "name": "stdout",
     "output_type": "stream",
     "text": [
      "[2, 1, 0, 6, 8, 9, 7] \n",
      "\n",
      "[0, 1, 2, 6, 8, 9, 7] \n",
      "\n",
      "[0, 1, 2, 6, 8, 9, 7] \n",
      "\n",
      "[0, 1, 2, 6, 7, 9, 8] \n",
      "\n",
      "[0, 1, 2, 6, 7, 8, 9] \n",
      "\n",
      "Sorted Array in Ascending Order:\n",
      "[0, 1, 2, 6, 7, 8, 9]\n"
     ]
    }
   ],
   "source": [
    "size = len(data)\n",
    "quickSort(data, 0, size - 1)\n",
    "print('Sorted Array in Ascending Order:')\n",
    "print(data)"
   ]
  }
 ],
 "metadata": {
  "kernelspec": {
   "display_name": "Python 3 (ipykernel)",
   "language": "python",
   "name": "python3"
  },
  "language_info": {
   "codemirror_mode": {
    "name": "ipython",
    "version": 3
   },
   "file_extension": ".py",
   "mimetype": "text/x-python",
   "name": "python",
   "nbconvert_exporter": "python",
   "pygments_lexer": "ipython3",
   "version": "3.9.13"
  }
 },
 "nbformat": 4,
 "nbformat_minor": 5
}
