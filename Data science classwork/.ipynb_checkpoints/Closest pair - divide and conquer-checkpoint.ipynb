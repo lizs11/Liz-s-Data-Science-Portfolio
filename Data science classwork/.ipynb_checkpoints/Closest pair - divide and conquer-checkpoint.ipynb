{
 "cells": [
  {
   "cell_type": "markdown",
   "id": "c60de367",
   "metadata": {},
   "source": [
    "### Closest pair - divide and conquer"
   ]
  },
  {
   "cell_type": "code",
   "execution_count": 1,
   "id": "f5d4a75a",
   "metadata": {},
   "outputs": [
    {
     "name": "stdout",
     "output_type": "stream",
     "text": [
      "id= 1 x= 8224 y= 78217\n",
      "id= 2 x= 68940 y= 46095\n",
      "id= 3 x= 92607 y= 82845\n",
      "id= 4 x= 59 y= 99459\n",
      "id= 5 x= 14140 y= 65521\n",
      "id= 6 x= 31076 y= 84384\n",
      "id= 7 x= 80899 y= 28855\n",
      "id= 8 x= 94749 y= 59529\n",
      "id= 9 x= 50828 y= 25136\n",
      "id= 10 x= 3317 y= 8484\n"
     ]
    }
   ],
   "source": [
    "import numpy as np\n",
    "\n",
    "points = []\n",
    "n=0\n",
    "with open(\"dataset_test_v2.txt\", 'r') as dataset:\n",
    "    for data in dataset.readlines():\n",
    "        data = data.split()\n",
    "        points.append({\n",
    "            'id': int(data[0]),\n",
    "            'x': int(data[1]),\n",
    "            'y': int(data[2])\n",
    "                   })\n",
    "        print (\"id=\",(points[n]['id']), \"x=\", (points[n]['x']), \"y=\", (points[n]['y']))\n",
    "        n=n+1"
   ]
  },
  {
   "cell_type": "code",
   "execution_count": 2,
   "id": "4c90dd2d",
   "metadata": {},
   "outputs": [],
   "source": [
    "def finding_closest_pair(points): #the function to find the closest pair in the given data points\n",
    "    k=len(points)\n",
    "    result = {}\n",
    "    result[\"p1\"] = points[0]['id']\n",
    "    result[\"p2\"] = points[1]['id']\n",
    "    x_length_init=abs(points[0]['x']-points[1]['x'])\n",
    "    y_length_init=abs(points[0]['y']-points[1]['y'])\n",
    "    result[\"distance\"] = np.sqrt((x_length_init)**2+(y_length_init)**2)\n",
    "    #print('The initial distance is',result)\n",
    "    \n",
    "    for i in range(0,k-1):\n",
    "        for j in range(i+1, k):\n",
    "            x_length=abs(points[j]['x']-points[i]['x'])\n",
    "            y_length=abs(points[j]['y']-points[i]['y'])\n",
    "            distance = np.sqrt((x_length)**2+(y_length)**2)\n",
    "            if distance < result[\"distance\"]:\n",
    "                result[\"p1\"] = points[i]['id']\n",
    "                result[\"p2\"] = points[j]['id']\n",
    "                result[\"distance\"] = distance\n",
    "    return (result)\n",
    "    #print ('The closest pair is',result)"
   ]
  },
  {
   "cell_type": "code",
   "execution_count": 3,
   "id": "c762b0b6",
   "metadata": {},
   "outputs": [
    {
     "name": "stdout",
     "output_type": "stream",
     "text": [
      "divide_line_x 47404.0\n",
      "\n",
      "The new order of points\n",
      "\n",
      "id= 4 x= 59 y= 99459\n",
      "id= 10 x= 3317 y= 8484\n",
      "id= 1 x= 8224 y= 78217\n",
      "id= 5 x= 14140 y= 65521\n",
      "id= 6 x= 31076 y= 84384\n",
      "id= 9 x= 50828 y= 25136\n",
      "id= 2 x= 68940 y= 46095\n",
      "id= 7 x= 80899 y= 28855\n",
      "id= 3 x= 92607 y= 82845\n",
      "id= 8 x= 94749 y= 59529\n"
     ]
    }
   ],
   "source": [
    "def myFunc(e): \n",
    "  return e['x']\n",
    "\n",
    "points.sort(key=myFunc)\n",
    "\n",
    "divide_line_x=(points[n-1]['x']+points[0]['x'])/2\n",
    "print('divide_line_x',divide_line_x)\n",
    "print('\\nThe new order of points\\n')\n",
    "\n",
    "for i in range(0,n):\n",
    "    print (\"id=\",(points[i]['id']), \"x=\", (points[i]['x']), \"y=\", (points[i]['y']))"
   ]
  },
  {
   "cell_type": "code",
   "execution_count": 4,
   "id": "f1b22678",
   "metadata": {},
   "outputs": [
    {
     "name": "stdout",
     "output_type": "stream",
     "text": [
      "The left part contains [{'id': 4, 'x': 59, 'y': 99459}, {'id': 10, 'x': 3317, 'y': 8484}, {'id': 1, 'x': 8224, 'y': 78217}, {'id': 5, 'x': 14140, 'y': 65521}, {'id': 6, 'x': 31076, 'y': 84384}]\n"
     ]
    }
   ],
   "source": [
    "points_left=[]\n",
    "for l in range(0,int(n/2)): #the data points included in the left part\n",
    "    points_left.append({\n",
    "            'id': int(points[l]['id']),\n",
    "            'x': int(points[l]['x']),\n",
    "            'y': int(points[l]['y'])\n",
    "                   })\n",
    "print('The left part contains',points_left)"
   ]
  },
  {
   "cell_type": "code",
   "execution_count": 5,
   "id": "0599848e",
   "metadata": {},
   "outputs": [
    {
     "name": "stdout",
     "output_type": "stream",
     "text": [
      "The right part contains [{'id': 9, 'x': 50828, 'y': 25136}, {'id': 2, 'x': 68940, 'y': 46095}, {'id': 7, 'x': 80899, 'y': 28855}, {'id': 3, 'x': 92607, 'y': 82845}, {'id': 8, 'x': 94749, 'y': 59529}]\n"
     ]
    }
   ],
   "source": [
    "points_right=[]\n",
    "for r in range(int(n/2),n): # the data points included in the right part\n",
    "    points_right.append({\n",
    "            'id': int(points[r]['id']),\n",
    "            'x': int(points[r]['x']),\n",
    "            'y': int(points[r]['y'])\n",
    "                   })\n",
    "print('The right part contains',points_right)"
   ]
  },
  {
   "cell_type": "code",
   "execution_count": 6,
   "id": "2755065f",
   "metadata": {},
   "outputs": [
    {
     "name": "stdout",
     "output_type": "stream",
     "text": [
      "The answer from the left part is {'p1': 1, 'p2': 5, 'distance': 14006.693828309377}\n",
      "The answer from the right part is {'p1': 2, 'p2': 7, 'distance': 20981.784504660227}\n"
     ]
    }
   ],
   "source": [
    "result_left = finding_closest_pair(points_left) #calculate the pair based on the left part\n",
    "result_right=finding_closest_pair(points_right) #calculate the pair based on the right part\n",
    "\n",
    "print('The answer from the left part is', result_left)\n",
    "print('The answer from the right part is', result_right)"
   ]
  },
  {
   "cell_type": "code",
   "execution_count": 7,
   "id": "edb2aad2",
   "metadata": {},
   "outputs": [
    {
     "name": "stdout",
     "output_type": "stream",
     "text": [
      "min_distance 14006.693828309377\n"
     ]
    }
   ],
   "source": [
    "min_distance=min(result_left[\"distance\"], result_right[\"distance\"])\n",
    "#the minimal distance between the distances delivered based on the left and right parts\n",
    "print('min_distance',min_distance)\n",
    "def finding_subset_for_crossing_pairs(points,divide_line,mindistance):\n",
    "    # finding the candidate to be used in the further crossing pair processing\n",
    "    result=[]\n",
    "    m=len(points)\n",
    "    print('m',m)\n",
    "    print('mindistance',mindistance)\n",
    "    print('divide_line',divide_line)\n",
    "    for i in range(0,m):\n",
    "        if abs(points[i]['x']-divide_line)<=mindistance:\n",
    "            print(abs(points[i]['x']-divide_line))\n",
    "            result.append({\n",
    "            'id': int(points[i]['id']),\n",
    "            'x': int(points[i]['x']),\n",
    "            'y': int(points[i]['y'])\n",
    "                   })\n",
    "    return (result)"
   ]
  },
  {
   "cell_type": "code",
   "execution_count": 8,
   "id": "94b7f914",
   "metadata": {},
   "outputs": [],
   "source": [
    "def finding_the_crossing_pair(subset_left,subset_right,mindistance): \n",
    "    # if the subset of the left part and the right part are not empty, we calculate the crossing distance\n",
    "    result={}\n",
    "    len_left=len(subset_left)\n",
    "    len_right=len(subset_right)\n",
    "    for i in range(0,len_left):\n",
    "        for j in range (0,len_right):\n",
    "            x_length=abs(subset_left[j]['x']-subset_right[i]['x'])\n",
    "            y_length=abs(subset_left[j]['y']-subset_right[j]['y'])\n",
    "            distance = np.sqrt((x_length)**2+(y_length)**2)\n",
    "            if distance < mindistance: #if the crossing distance is less than the delived minimal distance\n",
    "                result[\"p1\"] = subset_left[i]['id']\n",
    "                result[\"p2\"] = subset_right[j]['id']\n",
    "                result[\"distance\"] = distance\n",
    "    return (result)"
   ]
  },
  {
   "cell_type": "code",
   "execution_count": 9,
   "id": "1f95d448",
   "metadata": {},
   "outputs": [
    {
     "name": "stdout",
     "output_type": "stream",
     "text": [
      "m 5\n",
      "mindistance 14006.693828309377\n",
      "divide_line 47404.0\n",
      "m 5\n",
      "mindistance 14006.693828309377\n",
      "divide_line 47404.0\n",
      "3424.0\n",
      "The left subset for crossing pair []\n",
      "The right subset for crossing pair [{'id': 9, 'x': 50828, 'y': 25136}]\n"
     ]
    }
   ],
   "source": [
    "cross_left=finding_subset_for_crossing_pairs(points_left,divide_line_x,min_distance) #save the subset from the left part\n",
    "cross_right=finding_subset_for_crossing_pairs(points_right,divide_line_x,min_distance) #save the subset from the right part\n",
    "\n",
    "print('The left subset for crossing pair',cross_left)\n",
    "print('The right subset for crossing pair',cross_right)"
   ]
  },
  {
   "cell_type": "code",
   "execution_count": 10,
   "id": "515e89f6",
   "metadata": {},
   "outputs": [
    {
     "name": "stdout",
     "output_type": "stream",
     "text": [
      "The final answer of the closest pair is {'p1': 1, 'p2': 5, 'distance': 14006.693828309377}\n"
     ]
    }
   ],
   "source": [
    "if cross_left==[] or cross_right==[]: #if there is no candidate in the left or right sub-space\n",
    "    if result_left[\"distance\"]<=result_right[\"distance\"]:\n",
    "        print('The final answer of the closest pair is',result_left)\n",
    "    else:\n",
    "        print('The final answer of the closest pair is',result_right)\n",
    "else:\n",
    "    final_pair=finding_the_crossing_pair(cross_left,cross_right,min_distance) \n",
    "    #if we have the candidates, check the crossing pairs"
   ]
  },
  {
   "cell_type": "code",
   "execution_count": null,
   "id": "3d7538a4",
   "metadata": {},
   "outputs": [],
   "source": []
  }
 ],
 "metadata": {
  "kernelspec": {
   "display_name": "Python 3 (ipykernel)",
   "language": "python",
   "name": "python3"
  },
  "language_info": {
   "codemirror_mode": {
    "name": "ipython",
    "version": 3
   },
   "file_extension": ".py",
   "mimetype": "text/x-python",
   "name": "python",
   "nbconvert_exporter": "python",
   "pygments_lexer": "ipython3",
   "version": "3.9.13"
  }
 },
 "nbformat": 4,
 "nbformat_minor": 5
}
