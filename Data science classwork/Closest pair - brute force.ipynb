{
 "cells": [
  {
   "cell_type": "markdown",
   "id": "ba49d1b6",
   "metadata": {},
   "source": [
    "### Closest pair - brute force"
   ]
  },
  {
   "cell_type": "code",
   "execution_count": 1,
   "id": "c96bc147",
   "metadata": {},
   "outputs": [
    {
     "name": "stdout",
     "output_type": "stream",
     "text": [
      "id= 1 x= 8224 y= 78217\n",
      "id= 2 x= 68940 y= 46095\n",
      "id= 3 x= 92607 y= 82845\n",
      "id= 4 x= 59 y= 99459\n",
      "id= 5 x= 14140 y= 65521\n",
      "id= 6 x= 31076 y= 84384\n",
      "id= 7 x= 80899 y= 28855\n",
      "id= 8 x= 94749 y= 59529\n",
      "id= 9 x= 50828 y= 25136\n",
      "id= 10 x= 3317 y= 8484\n",
      "The initial distance is {'p1': 1, 'p2': 2, 'distance': 68689.55917750527}\n"
     ]
    }
   ],
   "source": [
    "import numpy as np\n",
    "\n",
    "points = []\n",
    "n=0\n",
    "with open(\"dataset_test_v2.txt\", 'r') as dataset: \n",
    "    for data in dataset.readlines():\n",
    "        data = data.split()\n",
    "        points.append({ #\n",
    "            'id': int(data[0]),\n",
    "            'x': int(data[1]),\n",
    "            'y': int(data[2])\n",
    "                   })\n",
    "        print (\"id=\",(points[n]['id']), \"x=\", (points[n]['x']), \"y=\", (points[n]['y']))\n",
    "        n=n+1   \n",
    "result = {} \n",
    "result[\"p1\"] = points[0]['id'] \n",
    "result[\"p2\"] = points[1]['id']\n",
    "x_length_init=abs(points[0]['x']-points[1]['x'])\n",
    "y_length_init=abs(points[0]['y']-points[1]['y'])\n",
    "result[\"distance\"] = np.sqrt((x_length_init)**2+(y_length_init)**2) #the initial distance between the first pair of data points\n",
    "print('The initial distance is',result)"
   ]
  },
  {
   "cell_type": "code",
   "execution_count": 2,
   "id": "e8f8b86a",
   "metadata": {},
   "outputs": [
    {
     "name": "stdout",
     "output_type": "stream",
     "text": [
      "The closest pair is {'p1': 1, 'p2': 5, 'distance': 14006.693828309377}\n"
     ]
    }
   ],
   "source": [
    "for i in range(0,n-1):\n",
    "    for j in range(i+1, n): #check each pair of data points by using two for loops\n",
    "        x_length=abs(points[j]['x']-points[i]['x'])\n",
    "        y_length=abs(points[j]['y']-points[i]['y'])\n",
    "        distance = np.sqrt((x_length)**2+(y_length)**2)\n",
    "        if distance < result[\"distance\"]: #finding the pair with the minimal distance\n",
    "            result[\"p1\"] = points[i]['id']\n",
    "            result[\"p2\"] = points[j]['id']\n",
    "            result[\"distance\"] = distance\n",
    "print ('The closest pair is',result)"
   ]
  },
  {
   "cell_type": "code",
   "execution_count": null,
   "id": "bfe33443",
   "metadata": {},
   "outputs": [],
   "source": []
  }
 ],
 "metadata": {
  "kernelspec": {
   "display_name": "Python 3 (ipykernel)",
   "language": "python",
   "name": "python3"
  },
  "language_info": {
   "codemirror_mode": {
    "name": "ipython",
    "version": 3
   },
   "file_extension": ".py",
   "mimetype": "text/x-python",
   "name": "python",
   "nbconvert_exporter": "python",
   "pygments_lexer": "ipython3",
   "version": "3.9.13"
  }
 },
 "nbformat": 4,
 "nbformat_minor": 5
}
