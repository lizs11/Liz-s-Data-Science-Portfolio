{
 "cells": [
  {
   "cell_type": "code",
   "execution_count": 6,
   "metadata": {
    "colab": {
     "base_uri": "https://localhost:8080/",
     "height": 36
    },
    "id": "-CAQ0UyaRD6f",
    "outputId": "5a5fc45e-50d2-4a56-eaca-3f3a28d5ac03"
   },
   "outputs": [
    {
     "data": {
      "text/plain": [
       "'2022.7.0'"
      ]
     },
     "execution_count": 6,
     "metadata": {},
     "output_type": "execute_result"
    }
   ],
   "source": [
    "import dask\n",
    "\n",
    "dask.__version__"
   ]
  },
  {
   "cell_type": "code",
   "execution_count": 7,
   "metadata": {
    "id": "zFWaaZxTUPqT"
   },
   "outputs": [],
   "source": [
    "from dask import dataframe as dd\n",
    "\n",
    "# Read a CSV file into a dask dataframe\n",
    "df = dd.read_csv('[dask] citibike.csv', dtype={'birth year': 'float64'})\n",
    "\n",
    "# data of bike trips between stations, with a variety of other data including gender also recorded"
   ]
  },
  {
   "cell_type": "code",
   "execution_count": 8,
   "metadata": {
    "colab": {
     "base_uri": "https://localhost:8080/"
    },
    "id": "he-a_NlSSFta",
    "outputId": "a3a18c84-b280-4a58-c390-720058171331"
   },
   "outputs": [
    {
     "name": "stdout",
     "output_type": "stream",
     "text": [
      "Unknown: E 2 St & Avenue B\n",
      "Male: E 2 St & Avenue B\n",
      "Female: E 2 St & Avenue B\n"
     ]
    }
   ],
   "source": [
    "task = df.groupby(['gender'])['start station name'].value_counts()\n",
    "\n",
    "result = task.compute()\n",
    "\n",
    "print('Unknown:', result.loc[0].idxmax())\n",
    "print('Male:',result.loc[1].idxmax())\n",
    "print('Female:',result.loc[2].idxmax())\n",
    "\n",
    "# stations which the most riders started from, by gender"
   ]
  },
  {
   "cell_type": "code",
   "execution_count": 9,
   "metadata": {
    "colab": {
     "base_uri": "https://localhost:8080/"
    },
    "id": "BOX33mNVcgCj",
    "outputId": "04e2ee96-2d48-4106-dd8c-38161ddcb823"
   },
   "outputs": [
    {
     "name": "stdout",
     "output_type": "stream",
     "text": [
      "Unknown: E 2 St & Avenue B\n",
      "Male: Lafayette St & Jersey St\n",
      "Female: Market St & Cherry St\n"
     ]
    }
   ],
   "source": [
    "task = df.groupby(['gender'])['end station name'].value_counts()\n",
    "\n",
    "result = task.compute()\n",
    "\n",
    "print('Unknown:', result.loc[0].idxmax())\n",
    "print('Male:',result.loc[1].idxmax())\n",
    "print('Female:',result.loc[2].idxmax())\n",
    "\n",
    "# stations which the most riders ended at, by gender"
   ]
  },
  {
   "cell_type": "code",
   "execution_count": 10,
   "metadata": {
    "colab": {
     "base_uri": "https://localhost:8080/"
    },
    "id": "Rze_WrX2c3sh",
    "outputId": "69572e6c-b2db-4527-d54c-693b167c7da7"
   },
   "outputs": [
    {
     "name": "stdout",
     "output_type": "stream",
     "text": [
      "                player  points\n",
      "3      Markos Bernhard      29\n",
      "9    Matelda Rodgerson      23\n",
      "4       Enrique Skyrme      22\n",
      "1     Lolly Greenhaugh      20\n",
      "2    Georgetta Staines      18\n",
      "14       Dimitri Warde      18\n",
      "5      Hatti Dumbleton      16\n",
      "10     Estele Chrismas      14\n",
      "0    Fraser Lillywhite      10\n",
      "7       Renie Wellsman      10\n",
      "12  Gwendolen Brundall      10\n",
      "6   Smitty Goldsbrough       5\n",
      "8   Starlene Ackermann       5\n",
      "11      Nicoli Baynham       5\n",
      "13     Lin Sommerville       1\n"
     ]
    }
   ],
   "source": [
    "# Statistics of a basketball game \n",
    "df = dd.read_csv('[dask] input.txt', sep = ',', header = None,\n",
    "                 names = ['player','rebounds', 'points','assists'])\n",
    "\n",
    "task = df[['player', 'points']].sort_values('points', ascending=False)\n",
    "\n",
    "result = task.compute()\n",
    "\n",
    "print(result.head(20))\n",
    "\n",
    "# sort player list according to points in descending order, then alphabetically (in case of ties)"
   ]
  },
  {
   "cell_type": "code",
   "execution_count": null,
   "metadata": {},
   "outputs": [],
   "source": []
  }
 ],
 "metadata": {
  "colab": {
   "collapsed_sections": [
    "1VsIfysRuaYp"
   ],
   "provenance": []
  },
  "kernelspec": {
   "display_name": "Python 3 (ipykernel)",
   "language": "python",
   "name": "python3"
  },
  "language_info": {
   "codemirror_mode": {
    "name": "ipython",
    "version": 3
   },
   "file_extension": ".py",
   "mimetype": "text/x-python",
   "name": "python",
   "nbconvert_exporter": "python",
   "pygments_lexer": "ipython3",
   "version": "3.9.13"
  }
 },
 "nbformat": 4,
 "nbformat_minor": 1
}
